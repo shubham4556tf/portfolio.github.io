{
 "cells": [
  {
   "cell_type": "code",
   "execution_count": 9,
   "metadata": {},
   "outputs": [
    {
     "name": "stdout",
     "output_type": "stream",
     "text": [
      "a>b\n"
     ]
    }
   ],
   "source": [
    "#ascii (american standard code for information interschange)\n",
    "#this helps us to covert charter to value and value to charter\n",
    "a=\"j\"\n",
    "b=\"b\"\n",
    "#which come fist\n",
    "#you have to convert into this number\n",
    "a=ord(a)\n",
    "b=ord(b)\n",
    "if a>b:\n",
    "    print(\"a>b\")\n",
    "else:\n",
    "    print(\"b>a\")\n"
   ]
  },
  {
   "cell_type": "code",
   "execution_count": null,
   "metadata": {},
   "outputs": [],
   "source": [
    "#continue and break\n",
    "input_user="
   ]
  }
 ],
 "metadata": {
  "kernelspec": {
   "display_name": "Python 3",
   "language": "python",
   "name": "python3"
  },
  "language_info": {
   "codemirror_mode": {
    "name": "ipython",
    "version": 3
   },
   "file_extension": ".py",
   "mimetype": "text/x-python",
   "name": "python",
   "nbconvert_exporter": "python",
   "pygments_lexer": "ipython3",
   "version": "3.11.5"
  }
 },
 "nbformat": 4,
 "nbformat_minor": 2
}
